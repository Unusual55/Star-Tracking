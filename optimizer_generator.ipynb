{
 "cells": [
  {
   "cell_type": "code",
   "execution_count": 2,
   "id": "1f1b3603",
   "metadata": {},
   "outputs": [
    {
     "name": "stdout",
     "output_type": "stream",
     "text": [
      "Generation 0:\tPopulation size: 204\tBest fitness: 0.879461250593248\n",
      "Generation 50:\tPopulation size: 376\tBest fitness: 0.879461250593248\n",
      "Generation 100:\tPopulation size: 557\tBest fitness: 0.879461250593248\n",
      "Generation 150:\tPopulation size: 739\tBest fitness: 0.879461250593248\n",
      "Generation 200:\tPopulation size: 886\tBest fitness: 0.879461250593248\n",
      "Generation 250:\tPopulation size: 1076\tBest fitness: 0.879461250593248\n",
      "Generation 300:\tPopulation size: 1259\tBest fitness: 0.879461250593248\n",
      "Generation 350:\tPopulation size: 1450\tBest fitness: 0.879461250593248\n",
      "Generation 400:\tPopulation size: 1613\tBest fitness: 1.0216505116965666\n",
      "Generation 450:\tPopulation size: 1788\tBest fitness: 1.0216505116965666\n",
      "Generation 500:\tPopulation size: 1988\tBest fitness: 1.0216505116965666\n",
      "Generation 550:\tPopulation size: 2177\tBest fitness: 1.0216505116965666\n",
      "Generation 600:\tPopulation size: 2363\tBest fitness: 1.0216505116965666\n",
      "Generation 650:\tPopulation size: 2546\tBest fitness: 1.0216505116965666\n",
      "Generation 700:\tPopulation size: 2749\tBest fitness: 1.0216505116965666\n",
      "Generation 750:\tPopulation size: 2941\tBest fitness: 1.0216505116965666\n",
      "Generation 800:\tPopulation size: 3126\tBest fitness: 1.0216505116965666\n",
      "Generation 850:\tPopulation size: 3308\tBest fitness: 1.0216505116965666\n",
      "Generation 900:\tPopulation size: 3497\tBest fitness: 1.0216505116965666\n",
      "Generation 950:\tPopulation size: 3684\tBest fitness: 1.0216505116965666\n",
      "Generation 1000:\tPopulation size: 3870\tBest fitness: 1.0216505116965666\n",
      "Generation 1050:\tPopulation size: 4048\tBest fitness: 1.0216505116965666\n",
      "Generation 1100:\tPopulation size: 4235\tBest fitness: 1.0216505116965666\n",
      "Generation 1150:\tPopulation size: 4409\tBest fitness: 1.0216505116965666\n",
      "Generation 1200:\tPopulation size: 4600\tBest fitness: 1.0216505116965666\n",
      "Generation 1250:\tPopulation size: 4762\tBest fitness: 1.0216505116965666\n",
      "Generation 1300:\tPopulation size: 4945\tBest fitness: 1.0216505116965666\n",
      "Generation 1350:\tPopulation size: 5121\tBest fitness: 1.0216505116965666\n",
      "Generation 1400:\tPopulation size: 5320\tBest fitness: 1.0216505116965666\n",
      "Generation 1450:\tPopulation size: 5509\tBest fitness: 1.0216505116965666\n",
      "Generation 1500:\tPopulation size: 5695\tBest fitness: 1.0216505116965666\n",
      "Generation 1550:\tPopulation size: 5869\tBest fitness: 1.0216505116965666\n",
      "Generation 1600:\tPopulation size: 6048\tBest fitness: 1.0216505116965666\n",
      "Generation 1650:\tPopulation size: 6237\tBest fitness: 1.0216505116965666\n",
      "Generation 1700:\tPopulation size: 6420\tBest fitness: 1.0216505116965666\n",
      "Generation 1750:\tPopulation size: 6584\tBest fitness: 1.0216505116965666\n",
      "Generation 1800:\tPopulation size: 6778\tBest fitness: 1.0216505116965666\n",
      "Generation 1850:\tPopulation size: 6970\tBest fitness: 1.0216505116965666\n",
      "Generation 1900:\tPopulation size: 7135\tBest fitness: 1.0216505116965666\n",
      "Generation 1950:\tPopulation size: 7307\tBest fitness: 1.0216505116965666\n",
      "Generation 2000:\tPopulation size: 7475\tBest fitness: 1.0216505116965666\n",
      "Generation 2050:\tPopulation size: 7689\tBest fitness: 1.0216505116965666\n",
      "Generation 2100:\tPopulation size: 7873\tBest fitness: 1.0216505116965666\n",
      "Generation 2150:\tPopulation size: 8044\tBest fitness: 1.0216505116965666\n",
      "Generation 2200:\tPopulation size: 8215\tBest fitness: 1.0216505116965666\n",
      "Generation 2250:\tPopulation size: 8391\tBest fitness: 1.0216505116965666\n",
      "Generation 2300:\tPopulation size: 8554\tBest fitness: 1.0216505116965666\n",
      "Generation 2350:\tPopulation size: 8742\tBest fitness: 1.0216505116965666\n",
      "Generation 2400:\tPopulation size: 8940\tBest fitness: 1.0216505116965666\n",
      "Generation 2450:\tPopulation size: 9105\tBest fitness: 1.0216505116965666\n",
      "g1: 2 <----> g2: 15 with 0.2724696890167104 confidence\n",
      "g1: 4 <----> g2: 19 with 0.705879799286723 confidence\n"
     ]
    }
   ],
   "source": [
    "from star_detect import detect_stars2\n",
    "import Optimizer"
   ]
  },
  {
   "cell_type": "code",
   "execution_count": 2,
   "id": "e5850b86",
   "metadata": {},
   "outputs": [],
   "source": [
    "def generate(g1, g2):\n",
    "    s_1 = Optimizer(g1, g2)\n",
    "    s_1.calculate_fitness(750)\n",
    "    population_bound = 200\n",
    "    generation_bound = 2500\n",
    "    population = [(s_1, s_1.fitness)]\n",
    "    for i in range(population_bound):\n",
    "        sample = Optimizer(g1, g2, s_1.get_g1_tri(), s_1.get_g2_tri())\n",
    "        fitness = sample.calculate_fitness(750)\n",
    "        population.append((sample, fitness))\n",
    "\n",
    "    for gen in range(generation_bound):\n",
    "        population = sorted(population, key=lambda x: x[1], reverse=True)\n",
    "        parentA = population[0][0]\n",
    "        parent_selection = random.randrange(1, 101)\n",
    "        parentB = None\n",
    "        if parent_selection <= 90:\n",
    "            parentB = population[1][0]\n",
    "        else:\n",
    "            parent_selection = random.randrange(0, len(population) - 1)\n",
    "            parentB = population[parent_selection][0]\n",
    "        children_selection = random.randrange(1, 101)\n",
    "        children = []\n",
    "        if children_selection <= 50:\n",
    "            children = parentA.SwapCrossover(parentB)\n",
    "            for x in children:\n",
    "                x.calculate_fitness(500)\n",
    "                population.append((x, x.fitness))\n",
    "        else:\n",
    "            mutation_selection = random.randrange(1, 101)\n",
    "            if mutation_selection < 75:\n",
    "                children = parentA.inc_dec_mutate(parentB)\n",
    "                for x in children:\n",
    "                    x.calculate_fitness(500)\n",
    "                    population.append((x, x.fitness))\n",
    "            else:\n",
    "                children = parentA.avg_mutata(parentB)\n",
    "                for x in children:\n",
    "                    x.calculate_fitness(500)\n",
    "                    population.append((x, x.fitness))\n",
    "        if gen % 50 == 0:\n",
    "            print(f'Generation {gen}:\\tPopulation size: {len(population)}\\tBest fitness: {parentA.fitness}')\n",
    "    population = sorted(population, key=lambda x: x[1], reverse=True)\n",
    "    for assignment in population[0][0].assignments:\n",
    "        print(assignment)\n"
   ]
  },
  {
   "cell_type": "code",
   "execution_count": 5,
   "id": "0044fb3c",
   "metadata": {},
   "outputs": [],
   "source": [
    "def detect(img1, img2):\n",
    "    g1 = detect_stars2(img1)\n",
    "    g2 = detect_stars2(img2)\n",
    "    return g1, g2\n",
    "\n",
    "g1, g2 = detect('Star_Images/Formatted/IMG_3053.jpg', 'Star_Images/Formatted/IMG_3054.jpg')"
   ]
  },
  {
   "cell_type": "code",
   "execution_count": null,
   "id": "cea54cb5",
   "metadata": {},
   "outputs": [],
   "source": [
    "generate(g1, g2)"
   ]
  },
  {
   "cell_type": "code",
   "execution_count": null,
   "id": "0ce570ba",
   "metadata": {},
   "outputs": [],
   "source": []
  }
 ],
 "metadata": {
  "kernelspec": {
   "display_name": "Python 3 (ipykernel)",
   "language": "python",
   "name": "python3"
  },
  "language_info": {
   "codemirror_mode": {
    "name": "ipython",
    "version": 3
   },
   "file_extension": ".py",
   "mimetype": "text/x-python",
   "name": "python",
   "nbconvert_exporter": "python",
   "pygments_lexer": "ipython3",
   "version": "3.9.13"
  }
 },
 "nbformat": 4,
 "nbformat_minor": 5
}
